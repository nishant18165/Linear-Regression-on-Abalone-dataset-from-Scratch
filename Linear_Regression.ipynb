{
  "nbformat": 4,
  "nbformat_minor": 0,
  "metadata": {
    "colab": {
      "name": "Linear_Regression.ipynb",
      "provenance": [],
      "collapsed_sections": []
    },
    "kernelspec": {
      "display_name": "Python 3",
      "name": "python3"
    },
    "language_info": {
      "name": "python"
    }
  },
  "cells": [
    {
      "cell_type": "code",
      "metadata": {
        "id": "PL14NjtJzWJL"
      },
      "source": [
        "import pandas as pd\n",
        "import matplotlib.pyplot as plt\n",
        "from sklearn.linear_model import Ridge\n",
        "from sklearn.model_selection import GridSearchCV\n",
        "from sklearn.linear_model import Lasso\n"
      ],
      "execution_count": 1,
      "outputs": []
    },
    {
      "cell_type": "markdown",
      "metadata": {
        "id": "ojJWmKvjMrur"
      },
      "source": [
        "Dataset loading and visualising using .head() function"
      ]
    },
    {
      "cell_type": "code",
      "metadata": {
        "colab": {
          "base_uri": "https://localhost:8080/",
          "height": 194
        },
        "id": "ikjT2eEoMgJe",
        "outputId": "ad58ee93-895a-4773-92b0-140a3c30a776"
      },
      "source": [
        "data=pd.read_csv('/content/drive/MyDrive/abalone.csv')\n",
        "\n",
        "\"\"\"Adding a constant coulmn in the data\"\"\"\n",
        "\n",
        "data['W0']=1\n",
        "data.head()"
      ],
      "execution_count": 8,
      "outputs": [
        {
          "output_type": "execute_result",
          "data": {
            "text/html": [
              "<div>\n",
              "<style scoped>\n",
              "    .dataframe tbody tr th:only-of-type {\n",
              "        vertical-align: middle;\n",
              "    }\n",
              "\n",
              "    .dataframe tbody tr th {\n",
              "        vertical-align: top;\n",
              "    }\n",
              "\n",
              "    .dataframe thead th {\n",
              "        text-align: right;\n",
              "    }\n",
              "</style>\n",
              "<table border=\"1\" class=\"dataframe\">\n",
              "  <thead>\n",
              "    <tr style=\"text-align: right;\">\n",
              "      <th></th>\n",
              "      <th>Sex</th>\n",
              "      <th>Length</th>\n",
              "      <th>Diameter</th>\n",
              "      <th>Height</th>\n",
              "      <th>Whole weight</th>\n",
              "      <th>Shucked weight</th>\n",
              "      <th>Viscera weight</th>\n",
              "      <th>Shell weight</th>\n",
              "      <th>Rings</th>\n",
              "      <th>W0</th>\n",
              "    </tr>\n",
              "  </thead>\n",
              "  <tbody>\n",
              "    <tr>\n",
              "      <th>0</th>\n",
              "      <td>M</td>\n",
              "      <td>0.455</td>\n",
              "      <td>0.365</td>\n",
              "      <td>0.095</td>\n",
              "      <td>0.5140</td>\n",
              "      <td>0.2245</td>\n",
              "      <td>0.1010</td>\n",
              "      <td>0.150</td>\n",
              "      <td>15</td>\n",
              "      <td>1</td>\n",
              "    </tr>\n",
              "    <tr>\n",
              "      <th>1</th>\n",
              "      <td>M</td>\n",
              "      <td>0.350</td>\n",
              "      <td>0.265</td>\n",
              "      <td>0.090</td>\n",
              "      <td>0.2255</td>\n",
              "      <td>0.0995</td>\n",
              "      <td>0.0485</td>\n",
              "      <td>0.070</td>\n",
              "      <td>7</td>\n",
              "      <td>1</td>\n",
              "    </tr>\n",
              "    <tr>\n",
              "      <th>2</th>\n",
              "      <td>F</td>\n",
              "      <td>0.530</td>\n",
              "      <td>0.420</td>\n",
              "      <td>0.135</td>\n",
              "      <td>0.6770</td>\n",
              "      <td>0.2565</td>\n",
              "      <td>0.1415</td>\n",
              "      <td>0.210</td>\n",
              "      <td>9</td>\n",
              "      <td>1</td>\n",
              "    </tr>\n",
              "    <tr>\n",
              "      <th>3</th>\n",
              "      <td>M</td>\n",
              "      <td>0.440</td>\n",
              "      <td>0.365</td>\n",
              "      <td>0.125</td>\n",
              "      <td>0.5160</td>\n",
              "      <td>0.2155</td>\n",
              "      <td>0.1140</td>\n",
              "      <td>0.155</td>\n",
              "      <td>10</td>\n",
              "      <td>1</td>\n",
              "    </tr>\n",
              "    <tr>\n",
              "      <th>4</th>\n",
              "      <td>I</td>\n",
              "      <td>0.330</td>\n",
              "      <td>0.255</td>\n",
              "      <td>0.080</td>\n",
              "      <td>0.2050</td>\n",
              "      <td>0.0895</td>\n",
              "      <td>0.0395</td>\n",
              "      <td>0.055</td>\n",
              "      <td>7</td>\n",
              "      <td>1</td>\n",
              "    </tr>\n",
              "  </tbody>\n",
              "</table>\n",
              "</div>"
            ],
            "text/plain": [
              "  Sex  Length  Diameter  Height  ...  Viscera weight  Shell weight  Rings  W0\n",
              "0   M   0.455     0.365   0.095  ...          0.1010         0.150     15   1\n",
              "1   M   0.350     0.265   0.090  ...          0.0485         0.070      7   1\n",
              "2   F   0.530     0.420   0.135  ...          0.1415         0.210      9   1\n",
              "3   M   0.440     0.365   0.125  ...          0.1140         0.155     10   1\n",
              "4   I   0.330     0.255   0.080  ...          0.0395         0.055      7   1\n",
              "\n",
              "[5 rows x 10 columns]"
            ]
          },
          "metadata": {
            "tags": []
          },
          "execution_count": 8
        }
      ]
    },
    {
      "cell_type": "code",
      "metadata": {
        "colab": {
          "base_uri": "https://localhost:8080/"
        },
        "id": "neg19C7l1xB4",
        "outputId": "2b7640ab-4ab1-474d-ee0d-8499d4980fd9"
      },
      "source": [
        "\"\"\"data visualisation\"\"\"\n",
        "N=len(data)\n",
        "data.info()"
      ],
      "execution_count": 3,
      "outputs": [
        {
          "output_type": "stream",
          "text": [
            "<class 'pandas.core.frame.DataFrame'>\n",
            "RangeIndex: 4177 entries, 0 to 4176\n",
            "Data columns (total 10 columns):\n",
            " #   Column          Non-Null Count  Dtype  \n",
            "---  ------          --------------  -----  \n",
            " 0   Sex             4177 non-null   object \n",
            " 1   Length          4177 non-null   float64\n",
            " 2   Diameter        4177 non-null   float64\n",
            " 3   Height          4177 non-null   float64\n",
            " 4   Whole weight    4177 non-null   float64\n",
            " 5   Shucked weight  4177 non-null   float64\n",
            " 6   Viscera weight  4177 non-null   float64\n",
            " 7   Shell weight    4177 non-null   float64\n",
            " 8   Rings           4177 non-null   int64  \n",
            " 9   W0              4177 non-null   int64  \n",
            "dtypes: float64(7), int64(2), object(1)\n",
            "memory usage: 326.5+ KB\n"
          ],
          "name": "stdout"
        }
      ]
    },
    {
      "cell_type": "code",
      "metadata": {
        "colab": {
          "base_uri": "https://localhost:8080/",
          "height": 282
        },
        "id": "bzVje6P1STfn",
        "outputId": "94c3e1d2-03ec-469c-f7ee-a72e1045ce28"
      },
      "source": [
        "data.describe()"
      ],
      "execution_count": 4,
      "outputs": [
        {
          "output_type": "execute_result",
          "data": {
            "text/html": [
              "<div>\n",
              "<style scoped>\n",
              "    .dataframe tbody tr th:only-of-type {\n",
              "        vertical-align: middle;\n",
              "    }\n",
              "\n",
              "    .dataframe tbody tr th {\n",
              "        vertical-align: top;\n",
              "    }\n",
              "\n",
              "    .dataframe thead th {\n",
              "        text-align: right;\n",
              "    }\n",
              "</style>\n",
              "<table border=\"1\" class=\"dataframe\">\n",
              "  <thead>\n",
              "    <tr style=\"text-align: right;\">\n",
              "      <th></th>\n",
              "      <th>Length</th>\n",
              "      <th>Diameter</th>\n",
              "      <th>Height</th>\n",
              "      <th>Whole weight</th>\n",
              "      <th>Shucked weight</th>\n",
              "      <th>Viscera weight</th>\n",
              "      <th>Shell weight</th>\n",
              "      <th>Rings</th>\n",
              "      <th>W0</th>\n",
              "    </tr>\n",
              "  </thead>\n",
              "  <tbody>\n",
              "    <tr>\n",
              "      <th>count</th>\n",
              "      <td>4177.000000</td>\n",
              "      <td>4177.000000</td>\n",
              "      <td>4177.000000</td>\n",
              "      <td>4177.000000</td>\n",
              "      <td>4177.000000</td>\n",
              "      <td>4177.000000</td>\n",
              "      <td>4177.000000</td>\n",
              "      <td>4177.000000</td>\n",
              "      <td>4177.0</td>\n",
              "    </tr>\n",
              "    <tr>\n",
              "      <th>mean</th>\n",
              "      <td>0.523992</td>\n",
              "      <td>0.407881</td>\n",
              "      <td>0.139516</td>\n",
              "      <td>0.828742</td>\n",
              "      <td>0.359367</td>\n",
              "      <td>0.180594</td>\n",
              "      <td>0.238831</td>\n",
              "      <td>9.933684</td>\n",
              "      <td>1.0</td>\n",
              "    </tr>\n",
              "    <tr>\n",
              "      <th>std</th>\n",
              "      <td>0.120093</td>\n",
              "      <td>0.099240</td>\n",
              "      <td>0.041827</td>\n",
              "      <td>0.490389</td>\n",
              "      <td>0.221963</td>\n",
              "      <td>0.109614</td>\n",
              "      <td>0.139203</td>\n",
              "      <td>3.224169</td>\n",
              "      <td>0.0</td>\n",
              "    </tr>\n",
              "    <tr>\n",
              "      <th>min</th>\n",
              "      <td>0.075000</td>\n",
              "      <td>0.055000</td>\n",
              "      <td>0.000000</td>\n",
              "      <td>0.002000</td>\n",
              "      <td>0.001000</td>\n",
              "      <td>0.000500</td>\n",
              "      <td>0.001500</td>\n",
              "      <td>1.000000</td>\n",
              "      <td>1.0</td>\n",
              "    </tr>\n",
              "    <tr>\n",
              "      <th>25%</th>\n",
              "      <td>0.450000</td>\n",
              "      <td>0.350000</td>\n",
              "      <td>0.115000</td>\n",
              "      <td>0.441500</td>\n",
              "      <td>0.186000</td>\n",
              "      <td>0.093500</td>\n",
              "      <td>0.130000</td>\n",
              "      <td>8.000000</td>\n",
              "      <td>1.0</td>\n",
              "    </tr>\n",
              "    <tr>\n",
              "      <th>50%</th>\n",
              "      <td>0.545000</td>\n",
              "      <td>0.425000</td>\n",
              "      <td>0.140000</td>\n",
              "      <td>0.799500</td>\n",
              "      <td>0.336000</td>\n",
              "      <td>0.171000</td>\n",
              "      <td>0.234000</td>\n",
              "      <td>9.000000</td>\n",
              "      <td>1.0</td>\n",
              "    </tr>\n",
              "    <tr>\n",
              "      <th>75%</th>\n",
              "      <td>0.615000</td>\n",
              "      <td>0.480000</td>\n",
              "      <td>0.165000</td>\n",
              "      <td>1.153000</td>\n",
              "      <td>0.502000</td>\n",
              "      <td>0.253000</td>\n",
              "      <td>0.329000</td>\n",
              "      <td>11.000000</td>\n",
              "      <td>1.0</td>\n",
              "    </tr>\n",
              "    <tr>\n",
              "      <th>max</th>\n",
              "      <td>0.815000</td>\n",
              "      <td>0.650000</td>\n",
              "      <td>1.130000</td>\n",
              "      <td>2.825500</td>\n",
              "      <td>1.488000</td>\n",
              "      <td>0.760000</td>\n",
              "      <td>1.005000</td>\n",
              "      <td>29.000000</td>\n",
              "      <td>1.0</td>\n",
              "    </tr>\n",
              "  </tbody>\n",
              "</table>\n",
              "</div>"
            ],
            "text/plain": [
              "            Length     Diameter       Height  ...  Shell weight        Rings      W0\n",
              "count  4177.000000  4177.000000  4177.000000  ...   4177.000000  4177.000000  4177.0\n",
              "mean      0.523992     0.407881     0.139516  ...      0.238831     9.933684     1.0\n",
              "std       0.120093     0.099240     0.041827  ...      0.139203     3.224169     0.0\n",
              "min       0.075000     0.055000     0.000000  ...      0.001500     1.000000     1.0\n",
              "25%       0.450000     0.350000     0.115000  ...      0.130000     8.000000     1.0\n",
              "50%       0.545000     0.425000     0.140000  ...      0.234000     9.000000     1.0\n",
              "75%       0.615000     0.480000     0.165000  ...      0.329000    11.000000     1.0\n",
              "max       0.815000     0.650000     1.130000  ...      1.005000    29.000000     1.0\n",
              "\n",
              "[8 rows x 9 columns]"
            ]
          },
          "metadata": {
            "tags": []
          },
          "execution_count": 4
        }
      ]
    },
    {
      "cell_type": "markdown",
      "metadata": {
        "id": "uBU_0byZNEoj"
      },
      "source": [
        "We now need to hot encode all the coulmns of data which contains text"
      ]
    },
    {
      "cell_type": "code",
      "metadata": {
        "id": "JXJEoqtxSB_G"
      },
      "source": [
        "\"\"\"Hot encoding of \"Sex\" coulmn\"\"\"\n",
        "import numpy as np\n",
        "M = [-1]*N\n",
        "F = [-1]*N\n",
        "I = [-1]*N\n",
        "columnName='Sex'\n",
        "for i in range (N):\n",
        "    if(data[columnName][i]=='M'):\n",
        "      M[i]=1\n",
        "      F[i]=0\n",
        "      I[i]=0\n",
        "    elif(data[columnName][i]=='F'):\n",
        "      M[i]=0\n",
        "      F[i]=1\n",
        "      I[i]=0   \n",
        "    elif(data[columnName][i]=='I'):\n",
        "      M[i]=0\n",
        "      F[i]=0\n",
        "      I[i]=1\n",
        "data[\"M\"]=M\n",
        "data[\"F\"]=F\n",
        "data[\"I\"]=I\n",
        "data=data.drop(['Sex'],axis=1)"
      ],
      "execution_count": 9,
      "outputs": []
    },
    {
      "cell_type": "code",
      "metadata": {
        "colab": {
          "base_uri": "https://localhost:8080/",
          "height": 194
        },
        "id": "ppc6qsY3BUu3",
        "outputId": "f60d8236-00a9-415c-f3ee-bba5bc2340d2"
      },
      "source": [
        "\"\"\"data visualisation after hot encoding\"\"\"\n",
        "data.head()"
      ],
      "execution_count": 10,
      "outputs": [
        {
          "output_type": "execute_result",
          "data": {
            "text/html": [
              "<div>\n",
              "<style scoped>\n",
              "    .dataframe tbody tr th:only-of-type {\n",
              "        vertical-align: middle;\n",
              "    }\n",
              "\n",
              "    .dataframe tbody tr th {\n",
              "        vertical-align: top;\n",
              "    }\n",
              "\n",
              "    .dataframe thead th {\n",
              "        text-align: right;\n",
              "    }\n",
              "</style>\n",
              "<table border=\"1\" class=\"dataframe\">\n",
              "  <thead>\n",
              "    <tr style=\"text-align: right;\">\n",
              "      <th></th>\n",
              "      <th>Length</th>\n",
              "      <th>Diameter</th>\n",
              "      <th>Height</th>\n",
              "      <th>Whole weight</th>\n",
              "      <th>Shucked weight</th>\n",
              "      <th>Viscera weight</th>\n",
              "      <th>Shell weight</th>\n",
              "      <th>Rings</th>\n",
              "      <th>W0</th>\n",
              "      <th>M</th>\n",
              "      <th>F</th>\n",
              "      <th>I</th>\n",
              "    </tr>\n",
              "  </thead>\n",
              "  <tbody>\n",
              "    <tr>\n",
              "      <th>0</th>\n",
              "      <td>0.455</td>\n",
              "      <td>0.365</td>\n",
              "      <td>0.095</td>\n",
              "      <td>0.5140</td>\n",
              "      <td>0.2245</td>\n",
              "      <td>0.1010</td>\n",
              "      <td>0.150</td>\n",
              "      <td>15</td>\n",
              "      <td>1</td>\n",
              "      <td>1</td>\n",
              "      <td>0</td>\n",
              "      <td>0</td>\n",
              "    </tr>\n",
              "    <tr>\n",
              "      <th>1</th>\n",
              "      <td>0.350</td>\n",
              "      <td>0.265</td>\n",
              "      <td>0.090</td>\n",
              "      <td>0.2255</td>\n",
              "      <td>0.0995</td>\n",
              "      <td>0.0485</td>\n",
              "      <td>0.070</td>\n",
              "      <td>7</td>\n",
              "      <td>1</td>\n",
              "      <td>1</td>\n",
              "      <td>0</td>\n",
              "      <td>0</td>\n",
              "    </tr>\n",
              "    <tr>\n",
              "      <th>2</th>\n",
              "      <td>0.530</td>\n",
              "      <td>0.420</td>\n",
              "      <td>0.135</td>\n",
              "      <td>0.6770</td>\n",
              "      <td>0.2565</td>\n",
              "      <td>0.1415</td>\n",
              "      <td>0.210</td>\n",
              "      <td>9</td>\n",
              "      <td>1</td>\n",
              "      <td>0</td>\n",
              "      <td>1</td>\n",
              "      <td>0</td>\n",
              "    </tr>\n",
              "    <tr>\n",
              "      <th>3</th>\n",
              "      <td>0.440</td>\n",
              "      <td>0.365</td>\n",
              "      <td>0.125</td>\n",
              "      <td>0.5160</td>\n",
              "      <td>0.2155</td>\n",
              "      <td>0.1140</td>\n",
              "      <td>0.155</td>\n",
              "      <td>10</td>\n",
              "      <td>1</td>\n",
              "      <td>1</td>\n",
              "      <td>0</td>\n",
              "      <td>0</td>\n",
              "    </tr>\n",
              "    <tr>\n",
              "      <th>4</th>\n",
              "      <td>0.330</td>\n",
              "      <td>0.255</td>\n",
              "      <td>0.080</td>\n",
              "      <td>0.2050</td>\n",
              "      <td>0.0895</td>\n",
              "      <td>0.0395</td>\n",
              "      <td>0.055</td>\n",
              "      <td>7</td>\n",
              "      <td>1</td>\n",
              "      <td>0</td>\n",
              "      <td>0</td>\n",
              "      <td>1</td>\n",
              "    </tr>\n",
              "  </tbody>\n",
              "</table>\n",
              "</div>"
            ],
            "text/plain": [
              "   Length  Diameter  Height  Whole weight  Shucked weight  ...  Rings  W0  M  F  I\n",
              "0   0.455     0.365   0.095        0.5140          0.2245  ...     15   1  1  0  0\n",
              "1   0.350     0.265   0.090        0.2255          0.0995  ...      7   1  1  0  0\n",
              "2   0.530     0.420   0.135        0.6770          0.2565  ...      9   1  0  1  0\n",
              "3   0.440     0.365   0.125        0.5160          0.2155  ...     10   1  1  0  0\n",
              "4   0.330     0.255   0.080        0.2050          0.0895  ...      7   1  0  0  1\n",
              "\n",
              "[5 rows x 12 columns]"
            ]
          },
          "metadata": {
            "tags": []
          },
          "execution_count": 10
        }
      ]
    },
    {
      "cell_type": "code",
      "metadata": {
        "id": "pgrXPNsuWyT2"
      },
      "source": [
        "\"\"\"Randomising the data to be use\"\"\"\n",
        "random=np.random.RandomState(seed=42).permutation(len(data))\n",
        "data=data.iloc[random]\n"
      ],
      "execution_count": 11,
      "outputs": []
    },
    {
      "cell_type": "code",
      "metadata": {
        "id": "gAyDC4gSceqF"
      },
      "source": [
        "x=data.drop(['Rings'],axis=1)\n",
        "y=data['Rings']"
      ],
      "execution_count": 12,
      "outputs": []
    },
    {
      "cell_type": "code",
      "metadata": {
        "id": "XvfBI2_0grWe"
      },
      "source": [
        "\"\"\"Function for spliting data into train and test set\"\"\"\n",
        "def test_train_splt(n,k,r):\n",
        "  train=[]\n",
        "  test=[]\n",
        "  for i in range(n):\n",
        "    if (i>=int((k-1)*r*n) and i<=int(k*r*n)):\n",
        "      test.append(i)\n",
        "    else:\n",
        "      train.append(i)\n",
        "  return train,test"
      ],
      "execution_count": 13,
      "outputs": []
    },
    {
      "cell_type": "code",
      "metadata": {
        "id": "TZINkFBsHzNY"
      },
      "source": [
        "\"\"\"Simple linear regression function without any regularisation\"\"\"\n",
        "class LinearRegression() :\n",
        "      \n",
        "    def __init__( self, learning_rate, iterations ) :\n",
        "          \n",
        "        self.learning_rate = learning_rate\n",
        "        self.iterations = iterations          \n",
        "    def fit( self, X, Y ) :\n",
        "          \n",
        "        self.m, self.n = X.shape\n",
        "        self.W = np.zeros( self.n )\n",
        "  \n",
        "        self.X = X\n",
        "        self.Y = Y         \n",
        "        for i in range( self.iterations ) :\n",
        "          self.gradients = 2/self.m *(self.X.T).dot(self.X.dot(self.W) -self.Y)\n",
        "          self.W=self.W-self.learning_rate*self.gradients\n",
        "        return self\n",
        "\n",
        "    def predict( self, X ) :    \n",
        "        return X.dot( self.W )"
      ],
      "execution_count": 14,
      "outputs": []
    },
    {
      "cell_type": "code",
      "metadata": {
        "id": "f_hVWlVfXA6y"
      },
      "source": [
        "from math import *\n",
        "\"\"\"Function for calculation of Root mean square error\"\"\"\n",
        "def RMSE(X,Y):\n",
        "  sub=np.array(X)-np.array(Y)\n",
        "  return sqrt(sum(sub**2)/len(sub))"
      ],
      "execution_count": 15,
      "outputs": []
    },
    {
      "cell_type": "code",
      "metadata": {
        "id": "OtNG_KgUKDSu"
      },
      "source": [
        "\"\"\"I have tried the linear regression on these learning rate but got good results on 0.3\"\"\"\n",
        "#learning_rate=[0.0003,0.001,0.003,0.01,0.03,0.1,0.3]\n",
        "learning_rate=0.3\n",
        "r=0.2\n",
        "n=len(x)\n",
        "iter=[]\n",
        "mean_rmse_test=[]\n",
        "mean_rmse_train=[]\n",
        "min_rmse=100\n",
        "min_rmse_k=-1\n",
        "for number_of_iter in range(0,1000,100):\n",
        "  m_rmse_test=0\n",
        "  m_rmse_train=0\n",
        "  for k in range(1,6):\n",
        "    model = LinearRegression(learning_rate,number_of_iter)\n",
        "    train_ind,test_ind=test_train_splt(n,k,r)\n",
        "    x_train, y_train=x.iloc[train_ind],y.iloc[train_ind]\n",
        "    x_test, y_test=x.iloc[test_ind],y.iloc[test_ind]\n",
        "    model.fit(x_train, y_train)\n",
        "    Y_train_p = model.predict(x_train)\n",
        "    Y_test_p=model.predict(x_test)\n",
        "    #print(sqrt(mean_squared_error(Y_train_p,y_train)),sqrt(mean_squared_error(Y_test_p,y_test)))\n",
        "    train_rmse=RMSE(Y_train_p,y_train)\n",
        "    test_rmse=RMSE(Y_test_p,y_test)\n",
        "    m_rmse_test+=test_rmse\n",
        "    m_rmse_train+=train_rmse\n",
        "    if(test_rmse<min_rmse):\n",
        "      min_rmse=test_rmse\n",
        "      min_rmse_k=k\n",
        "  mean_rmse_test.append(m_rmse_test/5)\n",
        "  mean_rmse_train.append(m_rmse_train/5)\n",
        "  iter.append(number_of_iter)"
      ],
      "execution_count": 16,
      "outputs": []
    },
    {
      "cell_type": "code",
      "metadata": {
        "colab": {
          "base_uri": "https://localhost:8080/"
        },
        "id": "4h5D62zvG9z4",
        "outputId": "859539b8-45e8-4159-9536-16585553ab8a"
      },
      "source": [
        "print(\"mean ramse on validation set:\" ,mean_rmse_test)\n",
        "print(\"mean ramse on train set:\" ,mean_rmse_train)"
      ],
      "execution_count": 17,
      "outputs": [
        {
          "output_type": "stream",
          "text": [
            "mean ramse on validation set: [10.440150651227802, 2.4979955341828104, 2.4000461327162506, 2.3349081912601193, 2.2919230824044243, 2.263649790428811, 2.2450381418310874, 2.2327276249037666, 2.224511604649881, 2.218953555727436]\n",
            "mean ramse on train set: [10.444109457034951, 2.496329213258275, 2.3984299526793564, 2.333332898633409, 2.2903625446355393, 2.2620743497552103, 2.2434205144146278, 2.2310452469247375, 2.2227470204858077, 2.2170938864562553]\n"
          ],
          "name": "stdout"
        }
      ]
    },
    {
      "cell_type": "code",
      "metadata": {
        "colab": {
          "base_uri": "https://localhost:8080/",
          "height": 851
        },
        "id": "GaiCvToQlqou",
        "outputId": "ac01c4a8-821b-4ba1-877e-59b8405a2cc5"
      },
      "source": [
        "\"\"\"Ploting figure required for the first part\"\"\"\n",
        "\n",
        "\n",
        "plt.plot(iter,mean_rmse_test,'-r')\n",
        "plt.title(\"mean_rmse_validation\")\n",
        "plt.xlabel('Number of Iterartions')\n",
        "plt.ylabel(\"Mean_RMSE\")\n",
        "\n",
        "plt.show()\n",
        "\n",
        "plt.plot(iter,mean_rmse_train,'-b')\n",
        "plt.xlabel('Number of Iterartions')\n",
        "plt.ylabel(\"Mean_RMSE\")\n",
        "plt.title(\"mean_rmse_train\")\n",
        "\n",
        "plt.show()\n",
        "\n",
        "plt.plot(iter,mean_rmse_test,label=\"Validation RMSE\")\n",
        "plt.plot(iter,mean_rmse_train,label=\"Train RMSE\")\n",
        "plt.xlabel('Number of Iterartions')\n",
        "plt.ylabel(\"Mean_RMSE\")\n",
        "plt.title(\"Combined Plot of Validation and Train RMSE\")\n",
        "plt.legend()\n",
        "plt.show()"
      ],
      "execution_count": 18,
      "outputs": [
        {
          "output_type": "display_data",
          "data": {
            "image/png": "[encoded data removed]",
            "text/plain": [
              "<Figure size 432x288 with 1 Axes>"
            ]
          },
          "metadata": {
            "tags": [],
            "needs_background": "light"
          }
        },
        {
          "output_type": "display_data",
          "data": {
            "image/png": "[encoded data removed]",
            "text/plain": [
              "<Figure size 432x288 with 1 Axes>"
            ]
          },
          "metadata": {
            "tags": [],
            "needs_background": "light"
          }
        },
        {
          "output_type": "display_data",
          "data": {
            "image/png": "[encoded data removed]",
            "text/plain": [
              "<Figure size 432x288 with 1 Axes>"
            ]
          },
          "metadata": {
            "tags": [],
            "needs_background": "light"
          }
        }
      ]
    },
    {
      "cell_type": "code",
      "metadata": {
        "colab": {
          "base_uri": "https://localhost:8080/"
        },
        "id": "6Hioa_D_eQ3f",
        "outputId": "73cabfa5-8fbf-464f-82e1-d9c96a472ead"
      },
      "source": [
        "\"\"\"In this Block of code i have implemented linear regression using normal method(Matrix multiplication method)\"\"\"\n",
        "rmse_test=[]\n",
        "rmse_train=[]\n",
        "for k in range(1,6):\n",
        "    train_ind,test_ind=test_train_splt(n,k,r)\n",
        "    x_train, y_train=x.iloc[train_ind],y.iloc[train_ind]\n",
        "    x_test, y_test=x.iloc[test_ind],y.iloc[test_ind]\n",
        "    theta_best = np.linalg.pinv(x_train).dot(y_train)\n",
        "    #print(theta_best)\n",
        "    y_pred_test=x_test.dot(theta_best)\n",
        "    y_pred_train=x_train.dot(theta_best)\n",
        "    rmse_test.append(RMSE(y_pred_test,y_test))\n",
        "    rmse_train.append(RMSE(y_pred_train,y_train))\n",
        "\n",
        "\n",
        "print(\"rmse on Validation set: \",rmse_test)\n",
        "print(\"rmse on train set: \",rmse_train)\n",
        "\n",
        "print(\"mean_rmse on Validation set: \",sum(rmse_test)/5)\n",
        "print(\"mean_rmse on train set: \",sum(rmse_train)/5)"
      ],
      "execution_count": 19,
      "outputs": [
        {
          "output_type": "stream",
          "text": [
            "rmse on Validation set:  [2.2116130871218393, 2.127793729968393, 2.337674986245132, 2.3616640620654543, 2.0125803567938925]\n",
            "rmse on train set:  [2.1872023441312556, 2.2084886816875144, 2.1559887547117658, 2.162376650581619, 2.234418427075385]\n",
            "mean_rmse on Validation set:  2.210265244438942\n",
            "mean_rmse on train set:  2.189694971637508\n"
          ],
          "name": "stdout"
        }
      ]
    },
    {
      "cell_type": "code",
      "metadata": {
        "colab": {
          "base_uri": "https://localhost:8080/",
          "height": 35
        },
        "id": "GGB_m7OExbMk",
        "outputId": "b37ac32e-385c-44db-d96d-19fbe1d2882b"
      },
      "source": [
        "\"\"\" Quest1 part B \"\"\""
      ],
      "execution_count": null,
      "outputs": [
        {
          "output_type": "execute_result",
          "data": {
            "application/vnd.google.colaboratory.intrinsic+json": {
              "type": "string"
            },
            "text/plain": [
              "' Quest1 part B '"
            ]
          },
          "metadata": {
            "tags": []
          },
          "execution_count": 386
        }
      ]
    },
    {
      "cell_type": "code",
      "metadata": {
        "id": "b98h5-lFGI8X"
      },
      "source": [
        "\"\"\"splitting traing and testing set according to best error found on validation set in part a)\"\"\"\n",
        "tra_ind,tes_ind=test_train_splt(n,3,r)\n",
        "x_tra, y_tra=x.iloc[tra_ind],y.iloc[tra_ind]\n",
        "x_tes, y_tes=x.iloc[tes_ind],y.iloc[tes_ind]"
      ],
      "execution_count": 20,
      "outputs": []
    },
    {
      "cell_type": "code",
      "metadata": {
        "id": "OBA7TTHFLPPB"
      },
      "source": [
        "\"\"\"Regularised Linear Model\"\"\"\n",
        "class Regularised_LinearRegression() :\n",
        "      \n",
        "    def __init__( self, learning_rate, iterations,alpha) :\n",
        "          \n",
        "        self.learning_rate = learning_rate\n",
        "        self.iterations = iterations \n",
        "        self.alpha=alpha\n",
        "        \n",
        "    def fit_L1( self, X, Y ) :\n",
        "          \n",
        "        self.m, self.n = X.shape\n",
        "        self.W = np.zeros( self.n )\n",
        "  \n",
        "        self.X = X\n",
        "        self.Y = Y         \n",
        "        for i in range( self.iterations ) :\n",
        "          self.W_temp=np.zeros(self.n)\n",
        "          for i in range(self.n):\n",
        "            if(self.W[i]>0):\n",
        "              self.W_temp[i]=1\n",
        "            elif(self.W[i]==0):\n",
        "              self.W_temp[i]=0\n",
        "            else:\n",
        "              self.W_temp[i]=-1\n",
        "        \n",
        "          self.gradients = (2/self.m * self.X.T.dot(self.X.dot(self.W) - self.Y))+(self.alpha*self.W_temp)\n",
        "          self.W=self.W-self.learning_rate*self.gradients\n",
        "        return self\n",
        "\n",
        "    def fit_L2( self, X, Y ) :\n",
        "          \n",
        "        self.m, self.n = X.shape\n",
        "        self.W = np.zeros( self.n )\n",
        "  \n",
        "        self.X = X\n",
        "        self.Y = Y         \n",
        "        for i in range( self.iterations ) :\n",
        "          self.gradients = 2/self.m * self.X.T.dot(self.X.dot(self.W) - self.Y)+(self.alpha*self.W)\n",
        "          self.W=self.W-self.learning_rate*self.gradients\n",
        "        \n",
        "        return self\n",
        "\n",
        "    def predict( self, X ) :    \n",
        "        return X.dot( self.W )"
      ],
      "execution_count": 21,
      "outputs": []
    },
    {
      "cell_type": "code",
      "metadata": {
        "colab": {
          "base_uri": "https://localhost:8080/"
        },
        "id": "cyf9ccmtIXSk",
        "outputId": "c9b703e4-338e-4e08-9410-baf57f4d1f63"
      },
      "source": [
        "\"\"\"Hyper parameter tunning for L2\"\"\"\n",
        "\n",
        "\n",
        "ridge=Ridge()\n",
        "param={'alpha':[1e-10,1e-5,1e-3,1e-2,1e-1,0.3,0.8,1,10,100,1000]}\n",
        "ridge_regressor=GridSearchCV(ridge,param,scoring=\"neg_root_mean_squared_error\", cv=5)\n",
        "ridge_regressor.fit(x_tra,y_tra)\n",
        "\n",
        "alpha=ridge_regressor.best_params_['alpha']\n",
        "print(\"Best hyperparameter for L2 case is:\",alpha)"
      ],
      "execution_count": null,
      "outputs": [
        {
          "output_type": "stream",
          "text": [
            "Best hyperparameter for L2 case is: 0.3\n"
          ],
          "name": "stdout"
        }
      ]
    },
    {
      "cell_type": "code",
      "metadata": {
        "id": "oSKrcge-XX73"
      },
      "source": [
        "\"\"\"Using L2 regularised linear model for prediction\"\"\"\n",
        "iter_L2=[]\n",
        "reg_rmse_test_L2=[]\n",
        "reg_rmse_train_L2=[]\n",
        "\n",
        "for number_of_iter in range(0,3000,300):\n",
        "    model =Regularised_LinearRegression(learning_rate,number_of_iter,alpha)\n",
        "    model.fit_L2(x_tra, y_tra)\n",
        "    Y_train_L2 = model.predict(x_tra)\n",
        "    Y_test_L2=model.predict(x_tes)\n",
        "    #print(sqrt(mean_squared_error(Y_train_p,y_train)),sqrt(mean_squared_error(Y_test_p,y_test)))\n",
        "  \n",
        "    reg_rmse_test_L2.append(RMSE(Y_test_L2,y_tes))\n",
        "    reg_rmse_train_L2.append(RMSE(Y_train_L2,y_tra))\n",
        "    iter_L2.append(number_of_iter)"
      ],
      "execution_count": null,
      "outputs": []
    },
    {
      "cell_type": "code",
      "metadata": {
        "colab": {
          "base_uri": "https://localhost:8080/"
        },
        "id": "M-XHYk7fte0D",
        "outputId": "cc5af9a9-5098-4b44-84bd-70ff603931e9"
      },
      "source": [
        "print(\"L2 regularised test error: \" ,reg_rmse_test_L2)\n",
        "print(\"L2 regularised train error: \",reg_rmse_train_L2)"
      ],
      "execution_count": null,
      "outputs": [
        {
          "output_type": "stream",
          "text": [
            "L2 regularised test error:  [10.555706469398453, 2.8863309398420256, 2.886330939842023, 2.886330939842023, 2.886330939842023, 2.886330939842023, 2.886330939842023, 2.886330939842023, 2.886330939842023, 2.886330939842023]\n",
            "L2 regularised train error:  [10.41544224340707, 2.6844392005101017, 2.684439200510097, 2.684439200510097, 2.684439200510097, 2.684439200510097, 2.684439200510097, 2.684439200510097, 2.684439200510097, 2.684439200510097]\n"
          ],
          "name": "stdout"
        }
      ]
    },
    {
      "cell_type": "code",
      "metadata": {
        "colab": {
          "base_uri": "https://localhost:8080/",
          "height": 851
        },
        "id": "RWyIHM1haHib",
        "outputId": "bfbf0ad3-40a4-4647-e620-0d5df8b5409d"
      },
      "source": [
        "plt.plot(iter_L2,reg_rmse_test_L2)\n",
        "plt.title(\"L2 Regularised_RMSE_Test\")\n",
        "plt.xlabel('Number of Iterartions')\n",
        "plt.ylabel(\"RMSE\")\n",
        "plt.show()\n",
        "\n",
        "plt.plot(iter_L2,reg_rmse_train_L2)\n",
        "plt.xlabel('Number of Iterartions')\n",
        "plt.ylabel(\"RMSE\")\n",
        "plt.title(\"L2 Regularised_RMSE_train\")\n",
        "plt.show()\n",
        "\n",
        "plt.plot(iter_L2,reg_rmse_test_L2,label=\"Regularised Test RMSE\")\n",
        "plt.plot(iter_L2,reg_rmse_train_L2,label=\"Regularised Train RMSE\")\n",
        "plt.xlabel('Number of Iterartions')\n",
        "plt.ylabel(\"RMSE\")\n",
        "plt.title(\"Combined Plot of L2 Regularised Test and Train RMSE\")\n",
        "plt.legend()\n",
        "plt.show()\n"
      ],
      "execution_count": null,
      "outputs": [
        {
          "output_type": "display_data",
          "data": {
            "image/png": "[encoded data removed]",
            "text/plain": [
              "<Figure size 432x288 with 1 Axes>"
            ]
          },
          "metadata": {
            "tags": [],
            "needs_background": "light"
          }
        },
        {
          "output_type": "display_data",
          "data": {
            "image/png": "[encoded data removed]",
            "text/plain": [
              "<Figure size 432x288 with 1 Axes>"
            ]
          },
          "metadata": {
            "tags": [],
            "needs_background": "light"
          }
        },
        {
          "output_type": "display_data",
          "data": {
            "image/png": "[encoded data removed]",
            "text/plain": [
              "<Figure size 432x288 with 1 Axes>"
            ]
          },
          "metadata": {
            "tags": [],
            "needs_background": "light"
          }
        }
      ]
    },
    {
      "cell_type": "code",
      "metadata": {
        "colab": {
          "base_uri": "https://localhost:8080/"
        },
        "id": "K4_uGp4HOshc",
        "outputId": "cdce3aaf-d1d7-4b95-a0e7-fe0733500598"
      },
      "source": [
        "\"\"\"L1 regulaisation Hyper parameter tunning\"\"\"\n",
        "\n",
        "lasso=Lasso()\n",
        "lasso_regressor=GridSearchCV(lasso,param,scoring=\"neg_root_mean_squared_error\", cv=5)\n",
        "lasso_regressor.fit(x_tra,y_tra)\n",
        "\n",
        "alp=lasso_regressor.best_params_['alpha']\n",
        "print(\"Best hyperparameter for L1 case is:\",alp)"
      ],
      "execution_count": null,
      "outputs": [
        {
          "output_type": "stream",
          "text": [
            "/usr/local/lib/python3.7/dist-packages/sklearn/linear_model/_coordinate_descent.py:476: ConvergenceWarning: Objective did not converge. You might want to increase the number of iterations. Duality gap: 6177.9989761272445, tolerance: 2.6390118263473066\n",
            "  positive)\n",
            "/usr/local/lib/python3.7/dist-packages/sklearn/linear_model/_coordinate_descent.py:476: ConvergenceWarning: Objective did not converge. You might want to increase the number of iterations. Duality gap: 6128.504985879356, tolerance: 2.7507359281437136\n",
            "  positive)\n",
            "/usr/local/lib/python3.7/dist-packages/sklearn/linear_model/_coordinate_descent.py:476: ConvergenceWarning: Objective did not converge. You might want to increase the number of iterations. Duality gap: 5900.5638835066675, tolerance: 2.6301209580838303\n",
            "  positive)\n",
            "/usr/local/lib/python3.7/dist-packages/sklearn/linear_model/_coordinate_descent.py:476: ConvergenceWarning: Objective did not converge. You might want to increase the number of iterations. Duality gap: 6190.441290111587, tolerance: 2.657322155688623\n",
            "  positive)\n",
            "/usr/local/lib/python3.7/dist-packages/sklearn/linear_model/_coordinate_descent.py:476: ConvergenceWarning: Objective did not converge. You might want to increase the number of iterations. Duality gap: 6215.961960434343, tolerance: 2.7884309880239506\n",
            "  positive)\n"
          ],
          "name": "stderr"
        },
        {
          "output_type": "stream",
          "text": [
            "Best hyperparameter for L1 case is: 0.001\n"
          ],
          "name": "stdout"
        }
      ]
    },
    {
      "cell_type": "code",
      "metadata": {
        "id": "47n5uNRmcei-"
      },
      "source": [
        "\"\"\"Prediction using L1 regularised Linear model\"\"\"\n",
        "iter_L1=[]\n",
        "reg_L1_rmse_test=[]\n",
        "reg_L1_rmse_train=[]\n",
        "\n",
        "\n",
        "for number_of_iter in range(0,3000,300):\n",
        "    model=Regularised_LinearRegression(learning_rate,number_of_iter,alp)\n",
        "    model.fit_L1(x_tra, y_tra)\n",
        "    Y_train_L1 = model.predict(x_tra)\n",
        "    Y_test_L1=model.predict(x_tes)\n",
        "    #print(sqrt(mean_squared_error(Y_train_p,y_train)),sqrt(mean_squared_error(Y_test_p,y_test)))\n",
        "  \n",
        "    reg_L1_rmse_test.append(RMSE(Y_test_L1,y_tes))\n",
        "    reg_L1_rmse_train.append(RMSE(Y_train_L1,y_tra))\n",
        "    iter_L1.append(number_of_iter)"
      ],
      "execution_count": null,
      "outputs": []
    },
    {
      "cell_type": "code",
      "metadata": {
        "colab": {
          "base_uri": "https://localhost:8080/"
        },
        "id": "7cvSe3zDz7C_",
        "outputId": "c6f4fc4b-21fd-4f98-908f-9c9dc1fd47fd"
      },
      "source": [
        "print(\"L1 regularised test error: \" ,reg_L1_rmse_test)\n",
        "print(\"L1 regularised train error: \" ,reg_L1_rmse_train)"
      ],
      "execution_count": null,
      "outputs": [
        {
          "output_type": "stream",
          "text": [
            "L1 regularised test error:  [10.555706469398453, 2.507913237163432, 2.4143913831524046, 2.3843838562124624, 2.3732179023728106, 2.3679257902217827, 2.3646712147566777, 2.362249729121209, 2.3602477544931926, 2.3585059469172225]\n",
            "L1 regularised train error:  [10.41544224340707, 2.295062867305824, 2.2058472807068448, 2.179497599098693, 2.1707529142580526, 2.1670891524779696, 2.1650527784272304, 2.1636495190625915, 2.162563736085102, 2.16167674586048]\n"
          ],
          "name": "stdout"
        }
      ]
    },
    {
      "cell_type": "code",
      "metadata": {
        "colab": {
          "base_uri": "https://localhost:8080/",
          "height": 851
        },
        "id": "GXtca01uzDKR",
        "outputId": "8061ce4e-fd11-430c-91f4-f662ddcdb5dc"
      },
      "source": [
        "plt.plot(iter_L1,reg_L1_rmse_test)\n",
        "plt.title(\"L1_Regularised_RMSE_Test\")\n",
        "plt.xlabel('Number of Iterartions')\n",
        "plt.ylabel(\"RMSE\")\n",
        "plt.show()\n",
        "\n",
        "plt.plot(iter_L1,reg_L1_rmse_train)\n",
        "plt.xlabel('Number of Iterartions')\n",
        "plt.ylabel(\"RMSE\")\n",
        "plt.title(\"L1_Regularised_RMSE_train\")\n",
        "plt.show()\n",
        "\n",
        "plt.plot(iter_L1,reg_L1_rmse_test,label=\"L1 Regularised Test RMSE\")\n",
        "plt.plot(iter_L1,reg_L1_rmse_train,label=\"L1 Regularised Train RMSE\")\n",
        "plt.xlabel('Number of Iterartions')\n",
        "plt.ylabel(\"RMSE\")\n",
        "plt.title(\"Combined Plot of L1 Regularised Test and Train RMSE\")\n",
        "plt.legend()\n",
        "plt.show()"
      ],
      "execution_count": null,
      "outputs": [
        {
          "output_type": "display_data",
          "data": {
            "image/png": "[encoded data removed]",
            "text/plain": [
              "<Figure size 432x288 with 1 Axes>"
            ]
          },
          "metadata": {
            "tags": [],
            "needs_background": "light"
          }
        },
        {
          "output_type": "display_data",
          "data": {
            "image/png": "[encoded data removed]",
            "text/plain": [
              "<Figure size 432x288 with 1 Axes>"
            ]
          },
          "metadata": {
            "tags": [],
            "needs_background": "light"
          }
        },
        {
          "output_type": "display_data",
          "data": {
            "image/png": "[encoded data removed]",
            "text/plain": [
              "<Figure size 432x288 with 1 Axes>"
            ]
          },
          "metadata": {
            "tags": [],
            "needs_background": "light"
          }
        }
      ]
    },
    {
      "cell_type": "code",
      "metadata": {
        "colab": {
          "base_uri": "https://localhost:8080/",
          "height": 35
        },
        "id": "1_wuKCDmz0h8",
        "outputId": "dd74fa1a-5ba0-4aa2-814e-4f9809215f80"
      },
      "source": [
        "\"\"\"part C \"\"\""
      ],
      "execution_count": null,
      "outputs": [
        {
          "output_type": "execute_result",
          "data": {
            "application/vnd.google.colaboratory.intrinsic+json": {
              "type": "string"
            },
            "text/plain": [
              "'part C '"
            ]
          },
          "metadata": {
            "tags": []
          },
          "execution_count": 397
        }
      ]
    },
    {
      "cell_type": "code",
      "metadata": {
        "colab": {
          "base_uri": "https://localhost:8080/",
          "height": 196
        },
        "id": "p4tfaFLO3GOf",
        "outputId": "4ca383f9-80ac-45b9-d492-f55bbb4da3e0"
      },
      "source": [
        "dataset=pd.read_csv('/content/drive/MyDrive/data.csv')\n",
        "dataset[\"W0\"]=1\n",
        "\n",
        "output=dataset['Body_Weight']\n",
        "input=dataset.drop(['Body_Weight'],axis=1)\n",
        "input.head()"
      ],
      "execution_count": null,
      "outputs": [
        {
          "output_type": "execute_result",
          "data": {
            "text/html": [
              "<div>\n",
              "<style scoped>\n",
              "    .dataframe tbody tr th:only-of-type {\n",
              "        vertical-align: middle;\n",
              "    }\n",
              "\n",
              "    .dataframe tbody tr th {\n",
              "        vertical-align: top;\n",
              "    }\n",
              "\n",
              "    .dataframe thead th {\n",
              "        text-align: right;\n",
              "    }\n",
              "</style>\n",
              "<table border=\"1\" class=\"dataframe\">\n",
              "  <thead>\n",
              "    <tr style=\"text-align: right;\">\n",
              "      <th></th>\n",
              "      <th>Brain_Weight</th>\n",
              "      <th>W0</th>\n",
              "    </tr>\n",
              "  </thead>\n",
              "  <tbody>\n",
              "    <tr>\n",
              "      <th>0</th>\n",
              "      <td>1.0</td>\n",
              "      <td>1</td>\n",
              "    </tr>\n",
              "    <tr>\n",
              "      <th>1</th>\n",
              "      <td>1.6</td>\n",
              "      <td>1</td>\n",
              "    </tr>\n",
              "    <tr>\n",
              "      <th>2</th>\n",
              "      <td>2.2</td>\n",
              "      <td>1</td>\n",
              "    </tr>\n",
              "    <tr>\n",
              "      <th>3</th>\n",
              "      <td>2.8</td>\n",
              "      <td>1</td>\n",
              "    </tr>\n",
              "    <tr>\n",
              "      <th>4</th>\n",
              "      <td>3.4</td>\n",
              "      <td>1</td>\n",
              "    </tr>\n",
              "  </tbody>\n",
              "</table>\n",
              "</div>"
            ],
            "text/plain": [
              "   Brain_Weight  W0\n",
              "0           1.0   1\n",
              "1           1.6   1\n",
              "2           2.2   1\n",
              "3           2.8   1\n",
              "4           3.4   1"
            ]
          },
          "metadata": {
            "tags": []
          },
          "execution_count": 406
        }
      ]
    },
    {
      "cell_type": "code",
      "metadata": {
        "id": "yV6VnARRsnHE"
      },
      "source": [
        "model=LinearRegression(0.0001,1000)  \n",
        "model.fit(input,output)\n",
        "output_pre= model.predict(input)"
      ],
      "execution_count": null,
      "outputs": []
    },
    {
      "cell_type": "code",
      "metadata": {
        "colab": {
          "base_uri": "https://localhost:8080/",
          "height": 295
        },
        "id": "EGrF-bBX5SSr",
        "outputId": "2b0ae053-09c6-4b84-b33a-e5534b48105c"
      },
      "source": [
        "plt.scatter(dataset['Brain_Weight'],dataset['Body_Weight'],c=\"blue\")\n",
        "plt.plot(dataset['Brain_Weight'],output_pre,c=\"red\")\n",
        "plt.title(\"Plot of Given Pts and Fitted Line with Linear model without Regularisation\")\n",
        "plt.xlabel(\"x -->\")\n",
        "plt.ylabel(\"y -->\")\n",
        "\n",
        "plt.show()"
      ],
      "execution_count": null,
      "outputs": [
        {
          "output_type": "display_data",
          "data": {
            "image/png": "[encoded data removed]",
            "text/plain": [
              "<Figure size 432x288 with 1 Axes>"
            ]
          },
          "metadata": {
            "tags": [],
            "needs_background": "light"
          }
        }
      ]
    },
    {
      "cell_type": "code",
      "metadata": {
        "colab": {
          "base_uri": "https://localhost:8080/"
        },
        "id": "-wd38ucanAK1",
        "outputId": "200bd0b2-d739-43be-f242-562ce84e2ed2"
      },
      "source": [
        "ridge=Ridge()\n",
        "param={'alpha':[1e-10,1e-5,1e-3,1e-2,1e-1,0.3,0.8,1,10,100,1000]}\n",
        "ridge_regressor=GridSearchCV(ridge,param,scoring=\"neg_root_mean_squared_error\", cv=5)\n",
        "ridge_regressor.fit(input,output)\n",
        "\n",
        "alpha=ridge_regressor.best_params_['alpha']\n",
        "print(\"Best hyperparameter for L2 case is:\",alpha)"
      ],
      "execution_count": null,
      "outputs": [
        {
          "output_type": "stream",
          "text": [
            "Best hyperparameter for L2 case is: 1e-10\n"
          ],
          "name": "stdout"
        }
      ]
    },
    {
      "cell_type": "code",
      "metadata": {
        "colab": {
          "base_uri": "https://localhost:8080/",
          "height": 295
        },
        "id": "0tAqlRfO3GQF",
        "outputId": "f031ca7b-8764-43c9-b8ed-8d41f6a1aae6"
      },
      "source": [
        "model_l2=Regularised_LinearRegression(0.0001,100,alpha)\n",
        "model_l2.fit_L2(input,output)\n",
        "out_pre_l2=model_l2.predict(input)\n",
        "\n",
        "plt.scatter(dataset['Brain_Weight'],dataset['Body_Weight'],c=\"blue\")\n",
        "plt.plot(dataset['Brain_Weight'],out_pre_l2,c=\"red\")\n",
        "plt.title(\"Plot of Given Pts and Fitted Line with Linear model with L2 Regularisation\")\n",
        "plt.xlabel(\"x -->\")\n",
        "plt.ylabel(\"y -->\")\n",
        "\n",
        "plt.show()"
      ],
      "execution_count": null,
      "outputs": [
        {
          "output_type": "display_data",
          "data": {
            "image/png": "[encoded data removed]",
            "text/plain": [
              "<Figure size 432x288 with 1 Axes>"
            ]
          },
          "metadata": {
            "tags": [],
            "needs_background": "light"
          }
        }
      ]
    },
    {
      "cell_type": "code",
      "metadata": {
        "colab": {
          "base_uri": "https://localhost:8080/"
        },
        "id": "UoKnmjzvmyvm",
        "outputId": "d3386aa0-4ff9-4fb5-a136-57a3a36dedd8"
      },
      "source": [
        "lasso=Lasso()\n",
        "lasso_regressor=GridSearchCV(lasso,param,scoring=\"neg_root_mean_squared_error\", cv=5)\n",
        "lasso_regressor.fit(input,output)\n",
        "\n",
        "alp=lasso_regressor.best_params_['alpha']\n",
        "print(\"Best hyperparameter for L1 case is:\",alp)"
      ],
      "execution_count": null,
      "outputs": [
        {
          "output_type": "stream",
          "text": [
            "Best hyperparameter for L1 case is: 1e-10\n"
          ],
          "name": "stdout"
        }
      ]
    },
    {
      "cell_type": "code",
      "metadata": {
        "colab": {
          "base_uri": "https://localhost:8080/",
          "height": 295
        },
        "id": "IKOkrhWnOLzi",
        "outputId": "752422f1-dbce-449e-a2d5-91fb36559376"
      },
      "source": [
        "model_l1=Regularised_LinearRegression(0.0001,100,alp)\n",
        "model_l1.fit_L1(input,output)\n",
        "out_pre_l1=model_l1.predict(input)\n",
        "\n",
        "plt.scatter(dataset['Brain_Weight'],dataset['Body_Weight'],c=\"blue\")\n",
        "plt.plot(dataset['Brain_Weight'],out_pre_l1,c=\"red\")\n",
        "plt.title(\"Plot of Given Pts and Fitted Line with Linear model with L1 Regularisation\")\n",
        "plt.xlabel(\"x -->\")\n",
        "plt.ylabel(\"y -->\")\n",
        "\n",
        "plt.show()"
      ],
      "execution_count": null,
      "outputs": [
        {
          "output_type": "display_data",
          "data": {
            "image/png": "[encoded data removed]",
            "text/plain": [
              "<Figure size 432x288 with 1 Axes>"
            ]
          },
          "metadata": {
            "tags": [],
            "needs_background": "light"
          }
        }
      ]
    }
  ]
}